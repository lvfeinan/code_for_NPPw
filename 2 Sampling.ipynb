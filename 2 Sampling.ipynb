{
 "cells": [
  {
   "cell_type": "code",
   "execution_count": null,
   "metadata": {},
   "outputs": [],
   "source": [
    "from utils import *\n",
    "from tqdm.notebook import tqdm\n",
    "\n",
    "res_1km = 1 / 12 / 10"
   ]
  },
  {
   "cell_type": "markdown",
   "metadata": {},
   "source": [
    "## generate non conflict sample"
   ]
  },
  {
   "cell_type": "code",
   "execution_count": 7,
   "metadata": {},
   "outputs": [],
   "source": [
    "def get_gdf_conflict_1year(year):\n",
    "    if (shp_file := path_data / f\"PSM/sample_point/conflict_{year}.shp\").exists():\n",
    "        gdf_conflict_1year = gpd.read_file(shp_file)\n",
    "    else:\n",
    "        df_conflict_1year = df_conflict.query(\"year == @year\")[[\"x\", \"y\"]].drop_duplicates()\n",
    "        gdf_conflict_1year = gpd.GeoDataFrame(df_conflict_1year, geometry=gpd.points_from_xy(df_conflict_1year[\"x\"], df_conflict_1year[\"y\"], crs=\"epsg:4326\"))\n",
    "        gdf_conflict_1year[\"idx\"] = np.arange(gdf_conflict_1year.shape[0])\n",
    "        gdf_conflict_1year.to_file(shp_file)\n",
    "        \n",
    "    return gdf_conflict_1year"
   ]
  },
  {
   "cell_type": "code",
   "execution_count": 8,
   "metadata": {},
   "outputs": [],
   "source": [
    "def get_miss_conflict_random_point(year, gdf_conflict_1year, non_conflict_multiple_index=2):\n",
    "    if (shp_file := path_data / f\"PSM/sample_point/non_conflict_{year}.shp\").exists():\n",
    "        gdf_miss_conflict = gpd.read_file(shp_file)\n",
    "    else:\n",
    "        gdf_conflict_buffer = gdf_conflict_1year.copy()\n",
    "        gdf_conflict_buffer.loc[:, \"geometry\"] = gdf_conflict_buffer.buffer(res_1km * 10)\n",
    "        gdf_conflict_buffer[\"idx\"] = np.arange(gdf_conflict_buffer.shape[0])\n",
    "\n",
    "        gdf_conflict_buffer_100 = gdf_conflict_1year.copy()\n",
    "        gdf_conflict_buffer_100.loc[:, \"geometry\"] = gdf_conflict_buffer_100.buffer(res_1km * 100)\n",
    "        gdf_conflict_buffer_100_dissolve = gdf_conflict_buffer_100[[\"geometry\"]].dissolve()\n",
    "\n",
    "        gdf_conflict_buffer_dissolve = gdf_conflict_buffer[[\"geometry\"]].dissolve()\n",
    "        gdf_conflict_10_100 = gpd.overlay(gdf_conflict_buffer_100_dissolve, gdf_conflict_buffer_dissolve, how=\"difference\")\n",
    "        gdf_world_dissolve = gdf_world.dissolve()[[\"geometry\"]]\n",
    "        gdf_conflict_10_100 = gpd.overlay(gdf_conflict_10_100, gdf_world_dissolve, how=\"intersection\")\n",
    "\n",
    "        gdf_miss_conflict = gpd.GeoDataFrame(\n",
    "            {}, \n",
    "            geometry=gdf_conflict_10_100.sample_points(\n",
    "                gdf_conflict_1year.shape[0]*non_conflict_multiple_index, \n",
    "                rng=0 # rng random seed\n",
    "            ).explode(index_parts=False).values \n",
    "        )\n",
    "        gdf_miss_conflict[\"x\"] = gdf_miss_conflict[\"geometry\"].x\n",
    "        gdf_miss_conflict[\"y\"] = gdf_miss_conflict[\"geometry\"].y\n",
    "        gdf_miss_conflict[\"idx\"] = np.arange(gdf_miss_conflict.shape[0])\n",
    "        gdf_miss_conflict.to_file(shp_file)\n",
    "    return gdf_miss_conflict"
   ]
  },
  {
   "cell_type": "code",
   "execution_count": null,
   "metadata": {},
   "outputs": [],
   "source": [
    "df_conflict = pd.read_csv(path_data / \"conflict_data/2000-01-01-2023-12-31.csv\")\n",
    "for year in tqdm(np.arange(2002, 2024)):\n",
    "    gdf_conflict_1year = get_gdf_conflict_1year(year)\n",
    "    gdf_miss_conflict = get_miss_conflict_random_point(year, gdf_conflict_1year)"
   ]
  }
 ],
 "metadata": {
  "kernelspec": {
   "display_name": "pyg1",
   "language": "python",
   "name": "python3"
  },
  "language_info": {
   "codemirror_mode": {
    "name": "ipython",
    "version": 3
   },
   "file_extension": ".py",
   "mimetype": "text/x-python",
   "name": "python",
   "nbconvert_exporter": "python",
   "pygments_lexer": "ipython3",
   "version": "3.11.6"
  }
 },
 "nbformat": 4,
 "nbformat_minor": 2
}
