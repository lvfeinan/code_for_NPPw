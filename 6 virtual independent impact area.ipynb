{
 "cells": [
  {
   "cell_type": "code",
   "execution_count": null,
   "metadata": {},
   "outputs": [],
   "source": [
    "from utils import *\n",
    "\n",
    "from scipy.spatial import Voronoi\n",
    "import warnings\n",
    "warnings.filterwarnings(\"ignore\")\n",
    "import geopandas as gpd\n",
    "from shapely import Polygon, box, Point"
   ]
  },
  {
   "cell_type": "code",
   "execution_count": null,
   "metadata": {},
   "outputs": [],
   "source": [
    "bbox = box(-180, -60, 180, 85)\n",
    "km = 1 / 120"
   ]
  },
  {
   "cell_type": "code",
   "execution_count": null,
   "metadata": {},
   "outputs": [],
   "source": [
    "def get_gdf_conflict_1year(year, exclude=[]):\n",
    "    shp_file = path_data / f\"PSM/sample_point/conflict_{year}.shp\"\n",
    "    gdf_conflict_1year = gpd.read_file(shp_file)\n",
    "    return gdf_conflict_1year"
   ]
  },
  {
   "cell_type": "code",
   "execution_count": null,
   "metadata": {},
   "outputs": [],
   "source": [
    "def voronoi_polygons(points):\n",
    "    coords = np.array(list(map(lambda x: (x.x, x.y), points)))\n",
    "    vor = Voronoi(coords)\n",
    "    regions = [vor.vertices[line] for line in vor.regions if -1 not in line and line != []]\n",
    "    return [Polygon(region) for region in regions]"
   ]
  },
  {
   "cell_type": "code",
   "execution_count": null,
   "metadata": {},
   "outputs": [],
   "source": [
    "ring5 = Point(0, 0).buffer(5 * km, quad_segs=64)\n",
    "ring10 = Point(0, 0).buffer(10 * km, quad_segs=64).difference(Point(0, 0).buffer(5 * km, quad_segs=64))\n",
    "ring15 = Point(0, 0).buffer(15 * km, quad_segs=64).difference(Point(0, 0).buffer(10 * km, quad_segs=64))\n",
    "ring20 = Point(0, 0).buffer(20 * km, quad_segs=64).difference(Point(0, 0).buffer(15 * km, quad_segs=64))\n",
    "ring25 = Point(0, 0).buffer(25 * km, quad_segs=64).difference(Point(0, 0).buffer(20 * km, quad_segs=64))\n",
    "dic_ring_area = {5: ring5.area, 10: ring10.area, 15: ring15.area, 20: ring20.area, 25: ring25.area}\n",
    "\n",
    "def cal_voronoi_ring_ratio(year):\n",
    "    gdf_conflict_1year = get_gdf_conflict_1year(year)\n",
    "\n",
    "    points = [*gdf_conflict_1year[\"geometry\"].values, *[Point(*xy) for xy in list(box(-180, -60, 180, 85).exterior.coords)][:-1]]\n",
    "\n",
    "    gdf_voronoi = gpd.GeoDataFrame({}, geometry=voronoi_polygons(points))\n",
    "    gdf_voronoi = gpd.clip(gdf_voronoi, bbox)\n",
    "\n",
    "    gdf_voronoi_ring_clip = gdf_voronoi.sjoin(gdf_conflict_1year)\\\n",
    "        .assign(\n",
    "            geo_buffer5=lambda _df: _df[[\"x\", \"y\"]].apply(lambda xy: Point(*xy).buffer(5 * km, quad_segs=64), axis=1),\n",
    "            geo_buffer10=lambda _df: _df[[\"x\", \"y\"]].apply(lambda xy: Point(*xy).buffer(10 * km, quad_segs=64), axis=1),\n",
    "            geo_buffer15=lambda _df: _df[[\"x\", \"y\"]].apply(lambda xy: Point(*xy).buffer(15 * km, quad_segs=64), axis=1),\n",
    "            geo_buffer20=lambda _df: _df[[\"x\", \"y\"]].apply(lambda xy: Point(*xy).buffer(20 * km, quad_segs=64), axis=1),\n",
    "            geo_buffer25=lambda _df: _df[[\"x\", \"y\"]].apply(lambda xy: Point(*xy).buffer(25 * km, quad_segs=64), axis=1),\n",
    "        )\\\n",
    "        .assign(\n",
    "            geo_ring5=lambda _df: _df[\"geo_buffer5\"],\n",
    "            geo_ring10=lambda _df: _df[[\"geo_buffer10\", \"geo_buffer5\"]].apply(lambda g_: g_[0].difference(g_[1]), axis=1),\n",
    "            geo_ring15=lambda _df: _df[[\"geo_buffer15\", \"geo_buffer10\"]].apply(lambda g_: g_[0].difference(g_[1]), axis=1),\n",
    "            geo_ring20=lambda _df: _df[[\"geo_buffer20\", \"geo_buffer15\"]].apply(lambda g_: g_[0].difference(g_[1]), axis=1),\n",
    "            geo_ring25=lambda _df: _df[[\"geo_buffer25\", \"geo_buffer20\"]].apply(lambda g_: g_[0].difference(g_[1]), axis=1),\n",
    "        )\\\n",
    "        .assign(\n",
    "            voronoi_clip5=lambda _df: _df[[\"geometry\", \"geo_ring5\"]].apply(lambda g_: g_[0].intersection(g_[1]), axis=1),\n",
    "            voronoi_clip10=lambda _df: _df[[\"geometry\", \"geo_ring10\"]].apply(lambda g_: g_[0].intersection(g_[1]), axis=1),\n",
    "            voronoi_clip15=lambda _df: _df[[\"geometry\", \"geo_ring15\"]].apply(lambda g_: g_[0].intersection(g_[1]), axis=1),\n",
    "            voronoi_clip20=lambda _df: _df[[\"geometry\", \"geo_ring20\"]].apply(lambda g_: g_[0].intersection(g_[1]), axis=1),\n",
    "            voronoi_clip25=lambda _df: _df[[\"geometry\", \"geo_ring25\"]].apply(lambda g_: g_[0].intersection(g_[1]), axis=1),\n",
    "        )\\\n",
    "        .assign(\n",
    "            voronoi_clip5_area=lambda _df: _df[[f\"voronoi_clip5\"]].apply(lambda x: x.area),\n",
    "            voronoi_clip10_area=lambda _df: _df[[f\"voronoi_clip10\"]].apply(lambda x: x.area),\n",
    "            voronoi_clip15_area=lambda _df: _df[[f\"voronoi_clip15\"]].apply(lambda x: x.area),\n",
    "            voronoi_clip20_area=lambda _df: _df[[f\"voronoi_clip20\"]].apply(lambda x: x.area),\n",
    "            voronoi_clip25_area=lambda _df: _df[[f\"voronoi_clip25\"]].apply(lambda x: x.area),\n",
    "        )\\\n",
    "        .assign(\n",
    "            ratio5=lambda _df: _df[\"voronoi_clip5_area\"] / dic_ring_area[5],\n",
    "            ratio10=lambda _df: _df[\"voronoi_clip10_area\"] / dic_ring_area[10],\n",
    "            ratio15=lambda _df: _df[\"voronoi_clip15_area\"] / dic_ring_area[15],\n",
    "            ratio20=lambda _df: _df[\"voronoi_clip20_area\"] / dic_ring_area[20],\n",
    "            ratio25=lambda _df: _df[\"voronoi_clip25_area\"] / dic_ring_area[25],\n",
    "        )\n",
    "    return gdf_voronoi_ring_clip"
   ]
  },
  {
   "cell_type": "code",
   "execution_count": null,
   "metadata": {},
   "outputs": [],
   "source": [
    "for year in range(2002, 2024):\n",
    "    if not (out_file:=path_data / f\"PSM/voronoi/ring_ratio_{year}.csv\").exists():\n",
    "        gdf_voronoi_ring_clip = cal_voronoi_ring_ratio(year)\n",
    "        \n",
    "        df_voronoi_ring_ratio = gdf_voronoi_ring_clip[[\"x\", \"y\", \"idx\", \"ratio5\", \"ratio10\", \"ratio15\", \"ratio20\", \"ratio25\"]]\\\n",
    "            .assign(year=year)\n",
    "        df_voronoi_ring_ratio.to_csv(out_file)"
   ]
  }
 ],
 "metadata": {
  "kernelspec": {
   "display_name": "pyg2",
   "language": "python",
   "name": "pyg2"
  },
  "language_info": {
   "codemirror_mode": {
    "name": "ipython",
    "version": 3
   },
   "file_extension": ".py",
   "mimetype": "text/x-python",
   "name": "python",
   "nbconvert_exporter": "python",
   "pygments_lexer": "ipython3",
   "version": "3.11.9"
  }
 },
 "nbformat": 4,
 "nbformat_minor": 2
}
