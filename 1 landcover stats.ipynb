{
 "cells": [
  {
   "cell_type": "code",
   "execution_count": null,
   "metadata": {},
   "outputs": [],
   "source": [
    "from utils import *\n",
    "res_1km = 1 / 12 / 10\n",
    "res_500m = res_1km / 2\n",
    "\n",
    "import warnings\n",
    "warnings.filterwarnings(\"ignore\")\n",
    "from rasterio.enums import Resampling"
   ]
  },
  {
   "cell_type": "code",
   "execution_count": null,
   "metadata": {},
   "outputs": [],
   "source": [
    "path_conflict_data = Path(\"E:/GEODATA/Raw Data/war data\")\n",
    "df_conflict = pd.read_csv(path_conflict_data / \"2000-01-01-2023-12-31.csv\")\n",
    "\n",
    "res = 1 / 12 / 10 / 2\n",
    "x_template, y_template = np.arange(-180 + res / 2, 180, res), np.arange(-60 + res / 2 , 85, res)\n",
    "x_bins, y_bins = np.arange(-180, 180+res/2, res), np.arange(-60, 85+res/2, res)\n",
    "\n",
    "df_conflict[\"x\"] = pd.cut(df_conflict[\"longitude\"], x_bins, labels=x_template).astype(float)\n",
    "df_conflict[\"y\"] = pd.cut(df_conflict[\"latitude\"], y_bins, labels=y_template).astype(float)"
   ]
  },
  {
   "cell_type": "code",
   "execution_count": null,
   "metadata": {},
   "outputs": [],
   "source": [
    "df_conflict_years = df_conflict[[\"year\", \"event_type\", \"x\", \"y\"]].drop_duplicates()"
   ]
  },
  {
   "cell_type": "code",
   "execution_count": null,
   "metadata": {},
   "outputs": [],
   "source": [
    "gdf_conflict_years = gpd.GeoDataFrame(df_conflict_years, geometry=gpd.points_from_xy(df_conflict_years[\"x\"], df_conflict_years[\"y\"], crs=\"epsg:4326\"))\n",
    "gdf_conflict_years[\"idx\"] = np.arange(gdf_conflict_years.shape[0])\n",
    "gdf_conflict_years_buffer = gdf_conflict_years.copy()\n",
    "gdf_conflict_years_buffer[\"geometry\"] = gdf_conflict_years_buffer.buffer(res_500m * 2 * 20)"
   ]
  },
  {
   "cell_type": "code",
   "execution_count": null,
   "metadata": {},
   "outputs": [],
   "source": [
    "gdf_conflict_years_buffer_dissolve = gdf_conflict_years_buffer.dissolve(\"year\").reset_index()"
   ]
  },
  {
   "cell_type": "code",
   "execution_count": null,
   "metadata": {},
   "outputs": [],
   "source": [
    "da_luc_500m = xr.open_dataarray(path_data / \"luc/2001-2023-500m.tif\").sel(band=slice(2, 24))\n",
    "da_luc_500m[\"band\"] = np.arange(2001, 2024)\n",
    "da_luc_500m = da_luc_500m.rename({\"band\": \"year\"})\n",
    "da_luc_500m.attrs = {}"
   ]
  },
  {
   "cell_type": "code",
   "execution_count": null,
   "metadata": {},
   "outputs": [],
   "source": [
    "st1 = \"\"\"Value\tColor\tDescription\n",
    "1\t#05450a\tEvergreen Needleleaf Forests: dominated by evergreen conifer trees (canopy >2m). Tree cover >60%.\n",
    "2\t#086a10\tEvergreen Broadleaf Forests: dominated by evergreen broadleaf and palmate trees (canopy >2m). Tree cover >60%.\n",
    "3\t#54a708\tDeciduous Needleleaf Forests: dominated by deciduous needleleaf (larch) trees (canopy >2m). Tree cover >60%.\n",
    "4\t#78d203\tDeciduous Broadleaf Forests: dominated by deciduous broadleaf trees (canopy >2m). Tree cover >60%.\n",
    "5\t#009900\tMixed Forests: dominated by neither deciduous nor evergreen (40-60% of each) tree type (canopy >2m). Tree cover >60%.\n",
    "6\t#c6b044\tClosed Shrublands: dominated by woody perennials (1-2m height) >60% cover.\n",
    "7\t#dcd159\tOpen Shrublands: dominated by woody perennials (1-2m height) 10-60% cover.\n",
    "8\t#dade48\tWoody Savannas: tree cover 30-60% (canopy >2m).\n",
    "9\t#fbff13\tSavannas: tree cover 10-30% (canopy >2m).\n",
    "10\t#b6ff05\tGrasslands: dominated by herbaceous annuals (<2m).\n",
    "11\t#27ff87\tPermanent Wetlands: permanently inundated lands with 30-60% water cover and >10% vegetated cover.\n",
    "12\t#c24f44\tCroplands: at least 60% of area is cultivated cropland.\n",
    "13\t#a5a5a5\tUrban and Built-up Lands: at least 30% impervious surface area including building materials, asphalt and vehicles.\n",
    "14\t#ff6d4c\tCropland/Natural Vegetation Mosaics: mosaics of small-scale cultivation 40-60% with natural tree, shrub, or herbaceous vegetation.\n",
    "15\t#69fff8\tPermanent Snow and Ice: at least 60% of area is covered by snow and ice for at least 10 months of the year.\n",
    "16\t#f9ffa4\tBarren: at least 60% of area is non-vegetated barren (sand, rock, soil) areas with less than 10% vegetation.\n",
    "17\t#1c0dff\tWater Bodies: at least 60% of area is covered by permanent water bodies.\"\"\"\n",
    "\n",
    "class_table = pd.read_csv(StringIO(st1), sep=\"\\t\")\n",
    "class_table[\"Value\"] = class_table[\"Value\"].astype(int)\n",
    "class_table[\"luc\"] = class_table[\"Description\"].str.split(\":\", expand=True)[0]\n",
    "\n",
    "code2color = class_table.set_index(\"Value\")[\"Color\"].to_dict()\n",
    "code2luc = class_table.set_index(\"Value\")[\"luc\"].to_dict()"
   ]
  },
  {
   "cell_type": "code",
   "execution_count": null,
   "metadata": {},
   "outputs": [],
   "source": [
    "def cal_luc_count_1year(year):\n",
    "    da_luc_conflict_1year = da_luc_500m.sel(year=year).rio.clip(gdf_conflict_years_buffer_dissolve.query(\"year == @year\").geometry)\n",
    "    ar_luc_code, ar_luc_count = np.unique(da_luc_conflict_1year.values, return_counts=True)\n",
    "\n",
    "    df_luc_count_1year = pd.DataFrame({\"luc\": ar_luc_code, \"count\": ar_luc_count}).dropna()\\\n",
    "        .assign(color=lambda x: x[\"luc\"].map(code2color))\\\n",
    "        .assign(luc=lambda x: x[\"luc\"].map(code2luc))\\\n",
    "        .assign(area=lambda _df: _df[\"count\"] * 500 **2)\\\n",
    "        .assign(year=year)\n",
    "    return df_luc_count_1year"
   ]
  },
  {
   "cell_type": "code",
   "execution_count": null,
   "metadata": {},
   "outputs": [],
   "source": [
    "for year in range(2001, 2024):\n",
    "    if (path_out := path_data / f\"reanalysis500m/conflict_luc_statistic/luc_count_{year}.csv\").exists():\n",
    "        continue\n",
    "    df_luc_count_1year = cal_luc_count_1year(year)\n",
    "    df_luc_count_1year.to_csv(path_out, index=False)"
   ]
  },
  {
   "cell_type": "code",
   "execution_count": null,
   "metadata": {},
   "outputs": [],
   "source": []
  }
 ],
 "metadata": {
  "kernelspec": {
   "display_name": "pyg3",
   "language": "python",
   "name": "python3"
  },
  "language_info": {
   "name": "python",
   "version": "3.11.11"
  }
 },
 "nbformat": 4,
 "nbformat_minor": 2
}
