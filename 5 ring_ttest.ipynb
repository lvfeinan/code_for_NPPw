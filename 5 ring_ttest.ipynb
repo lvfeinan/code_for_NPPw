{
 "cells": [
  {
   "cell_type": "code",
   "execution_count": 1,
   "metadata": {},
   "outputs": [],
   "source": [
    "from utils import *\n",
    "from matplotlib.lines import Line2D\n",
    "from scipy.stats import ttest_rel\n",
    "\n",
    "import warnings\n",
    "# warnings.filterwarnings('always')\n"
   ]
  },
  {
   "cell_type": "code",
   "execution_count": 2,
   "metadata": {},
   "outputs": [],
   "source": [
    "dic_region = {\n",
    "    \"Northern Africa and Western Asia\": \"N. Africa W. Asia\",\n",
    "    \"Sub-Saharan Africa\": \"Sub-Saharan Africa\",\n",
    "    \"Central Asia and Russian Federation\": \"C. Asia\",\n",
    "    \"Eastern Asia\": \"E. Asia\",\n",
    "    \"Southern Asia\": \"S. Asia\",\n",
    "    \"Southeastern Asia\": \"S. Asia\",\n",
    "    \"Northern America\": \"N. America\",\n",
    "    \"Latin America and the Caribbean\": \"Latin America\",\n",
    "    \"Western Europe\": \"W. Europe\",\n",
    "    \"Eastern and South-Eastern Europe\": \"E. Europe\",\n",
    "    \"Oceania and Australia\": \"Oceania\",\n",
    "}\n",
    "gdf_countries = gdf_world.reset_index(drop=True).reset_index().rename(columns={\"index\": \"idx\"})\n",
    "gdf_countries[\"regi_short\"] = gdf_countries[\"regi_pnas\"].map(dic_region)\n",
    "country_to_region = gdf_countries.set_index(\"name_long\")[\"regi_short\"].to_dict()"
   ]
  },
  {
   "cell_type": "code",
   "execution_count": 3,
   "metadata": {},
   "outputs": [],
   "source": [
    "regions = ['C. Asia', 'E. Asia', 'S. Asia', 'N. Africa W. Asia', 'Sub-Saharan Africa', 'N. America', 'Latin America', 'Oceania', 'E. Europe', 'W. Europe']\n",
    "regions_to_color = dict(zip(regions, plt.get_cmap(\"tab20\")(np.linspace(0, 1, len(regions)))))\n",
    "\n",
    "(path_data / \"ring/ttest\").mkdir(exist_ok=True)"
   ]
  },
  {
   "cell_type": "code",
   "execution_count": 4,
   "metadata": {},
   "outputs": [],
   "source": [
    "def load_df_diff_matched(ring_radius):\n",
    "    df_matched_m_lst = []\n",
    "    df_diff_m_lst = []\n",
    "    for year in range(2002, 2024):\n",
    "        df_matched_m_lst.append(pd.read_csv(path_data / f\"ring/df_matched_ring_{ring_radius}km_{year}.csv\", index_col=0))\n",
    "        df_diff_m_lst.append(pd.read_csv(path_data / f\"ring/df_diff_ring_{ring_radius}km_{year}.csv\", index_col=0))\n",
    "    df_diff_m_all = pd.concat(df_diff_m_lst)\n",
    "    df_matched_m_all = pd.concat(df_matched_m_lst)\n",
    "    return df_matched_m_all, df_diff_m_all"
   ]
  },
  {
   "cell_type": "code",
   "execution_count": null,
   "metadata": {},
   "outputs": [],
   "source": [
    "ring_radius = 25\n",
    "df_matched_m_all, df_diff_m_all = load_df_diff_matched(ring_radius)\n",
    "df_diff_m_all.loc[:, \"country\"] = df_matched_m_all[\"country\"]"
   ]
  },
  {
   "cell_type": "markdown",
   "metadata": {},
   "source": [
    "# ttest function"
   ]
  },
  {
   "cell_type": "code",
   "execution_count": null,
   "metadata": {},
   "outputs": [],
   "source": [
    "def ttest_1luc(df_matched_m_all, df_diff_m_all, luc=\"crop\"):\n",
    "    df_match_m_1luc = df_matched_m_all.reset_index(drop=True)\n",
    "    df_match_m_1luc[\"region\"] = df_match_m_1luc[\"country\"].map(country_to_region)\n",
    "\n",
    "    df_diff_m_1luc = df_diff_m_all.reset_index(drop=True)\n",
    "    df_diff_m_1luc[\"region\"] = df_diff_m_1luc[\"country\"].map(country_to_region)\n",
    "\n",
    "    df_npp_diff_country = pd.read_csv(path_data / f\"npp/{luc}_npp_diff.csv\").rename(columns={\"name_long\": \"country\"})\n",
    "    df_npp_diff_country = df_npp_diff_country.melt(id_vars=\"country\", var_name=\"year\", value_name=f\"{luc}_npp_diff_country\")\\\n",
    "        .assign(year=lambda _df: _df[\"year\"].astype(int))\n",
    "    df_match_m_1luc = df_match_m_1luc.merge(df_npp_diff_country, on=[\"country\", \"year\"], how=\"left\")\n",
    "    df_match_m_1luc.loc[:, f\"{luc}_npp_change_n\"] = df_match_m_1luc[[f\"{luc}_npp_change_n\", f\"{luc}_npp_diff_country\"]].bfill(axis=1).iloc[:, 0]\n",
    "        \n",
    "    ttest_1luc_data = []\n",
    "    for (year, country), df_gp in list(df_match_m_1luc.groupby([\"year\", \"country\"])):\n",
    "        df_gp = df_gp[[f\"{luc}_change\", f\"{luc}_change_n\"]].copy().dropna()\n",
    "        if df_gp.shape[0] < 5:\n",
    "            t_stat, t_p, diff_mean, diff_std = np.nan, np.nan, np.nan, np.nan\n",
    "        else:\n",
    "            t_stat, t_p = ttest_rel(df_gp[f\"{luc}_change\"].values, df_gp[f\"{luc}_change_n\"].values)\n",
    "            diff_mean = np.mean(df_gp[f\"{luc}_change\"].values - df_gp[f\"{luc}_change_n\"].values)\n",
    "            diff_std = np.std(df_gp[f\"{luc}_change\"].values - df_gp[f\"{luc}_change_n\"].values)\n",
    "        ttest_1luc_data.append([\n",
    "            year, country, t_stat, t_p, diff_mean, diff_std\n",
    "        ])\n",
    "    df_1luc_change_tt_test = pd.DataFrame(ttest_1luc_data, columns=[\n",
    "        \"year\", \"country\", \"t_stat\", \"t_p\", \"diff_mean\", \"diff_std\"\n",
    "    ])#.sort_values(\"diff_mean\")\n",
    "    \n",
    "    ttest_1luc_data = []\n",
    "    for (year, country), df_gp in list(df_match_m_1luc.groupby([\"year\", \"country\"])):\n",
    "        with warnings.catch_warnings(record=True) as w:\n",
    "            df_gp = df_gp[[f\"{luc}_npp_change\", f\"{luc}_npp_change_n\"]].copy().dropna()\n",
    "            if df_gp.shape[0] < 5:\n",
    "                t_stat, t_p, diff_mean, diff_std = np.nan, np.nan, np.nan, np.nan\n",
    "            else:\n",
    "                t_stat, t_p = ttest_rel(df_gp[f\"{luc}_npp_change\"].values, df_gp[f\"{luc}_npp_change_n\"].values)\n",
    "                diff_mean = np.mean(df_gp[f\"{luc}_npp_change\"].values - df_gp[f\"{luc}_npp_change_n\"].values)\n",
    "                diff_std = np.std(df_gp[f\"{luc}_npp_change\"].values - df_gp[f\"{luc}_npp_change_n\"].values)\n",
    "                if w:\n",
    "                    for warning in w:\n",
    "                        print(year, country)\n",
    "            ttest_1luc_data.append([\n",
    "                year, country, t_stat, t_p, diff_mean, diff_std])\n",
    "        # break\n",
    "    df_1luc_npp_change_tt_test = pd.DataFrame(ttest_1luc_data, columns=[\n",
    "        \"year\", \"country\", \"t_stat\", \"t_p\", \"diff_mean\", \"diff_std\"\n",
    "    ])#.sort_values(\"diff_mean\")\n",
    "    return df_1luc_change_tt_test, df_1luc_npp_change_tt_test"
   ]
  },
  {
   "cell_type": "code",
   "execution_count": null,
   "metadata": {},
   "outputs": [],
   "source": [
    "df_crop_change_tt_test, df_crop_npp_change_tt_test = ttest_1luc(df_matched_m_all, df_diff_m_all, luc=\"crop\")\n",
    "df_grass_change_tt_test, df_grass_npp_change_tt_test = ttest_1luc(df_matched_m_all, df_diff_m_all, luc=\"grass\")"
   ]
  },
  {
   "cell_type": "markdown",
   "metadata": {},
   "source": [
    "# combine ttest"
   ]
  },
  {
   "cell_type": "code",
   "execution_count": null,
   "metadata": {},
   "outputs": [],
   "source": [
    "tt_test_results = [df_crop_change_tt_test, df_crop_npp_change_tt_test, df_grass_change_tt_test, df_grass_npp_change_tt_test, ]\n",
    "tt_test_col = [\"crop_change\", \"crop_npp_change\", \"grass_change\", \"grass_npp_change\", ]"
   ]
  },
  {
   "cell_type": "code",
   "execution_count": 7,
   "metadata": {},
   "outputs": [],
   "source": [
    "def combine_ttest_1lucs(tt_test_results, tt_test_col):\n",
    "    tt_test_reclass_lst = []\n",
    "    for tt_test_df, col_ in zip(tt_test_results, tt_test_col):\n",
    "        tt_test_reclass = tt_test_df\\\n",
    "            .assign(sig=lambda _df: (_df[\"t_p\"]<0.05).astype(int))\\\n",
    "            .assign(increase=lambda _df: (_df[\"t_stat\"]>0).astype(int)* 2 - 1)\\\n",
    "            .assign(type_=lambda _df: _df[\"sig\"] * _df[\"increase\"])\\\n",
    "            .rename(columns={\"type_\": f\"{col_}\"})\\\n",
    "            .set_index([\"year\", \"country\"])[[f\"{col_}\"]]\n",
    "        \n",
    "        tt_test_reclass_lst.append(tt_test_reclass)\n",
    "    df_ttest_merge = pd.DataFrame(index=tt_test_reclass.index).copy()\n",
    "    for tt_test_reclass in tt_test_reclass_lst:\n",
    "        df_ttest_merge = df_ttest_merge.join(tt_test_reclass, how=\"outer\")\n",
    "    df_ttest_merge.fillna(0)\n",
    "    return df_ttest_merge"
   ]
  },
  {
   "cell_type": "code",
   "execution_count": null,
   "metadata": {},
   "outputs": [],
   "source": []
  },
  {
   "cell_type": "code",
   "execution_count": 15,
   "metadata": {},
   "outputs": [],
   "source": [
    "df_ttest_merge = combine_ttest_1lucs(tt_test_results, tt_test_col)\n",
    "df_ttest_merge.to_csv(path_data / f\"ring/ttest/ring_{ring_radius}km.csv\")"
   ]
  },
  {
   "cell_type": "code",
   "execution_count": null,
   "metadata": {},
   "outputs": [],
   "source": [
    "for ring_radius in range(5, 26, 5):\n",
    "    if (path_data / f\"ring/ttest/ring_{ring_radius}km.csv\").exists():\n",
    "        continue\n",
    "    df_matched_m_all, df_diff_m_all = load_df_diff_matched(ring_radius)\n",
    "    df_diff_m_all.loc[:, \"country\"] = df_matched_m_all[\"country\"]\n",
    "    \n",
    "    df_crop_change_tt_test, df_crop_npp_change_tt_test = ttest_1luc(df_matched_m_all, df_diff_m_all, luc=\"crop\")\n",
    "    df_grass_change_tt_test, df_grass_npp_change_tt_test = ttest_1luc(df_matched_m_all, df_diff_m_all, luc=\"grass\")\n",
    "    \n",
    "    tt_test_results = [df_crop_change_tt_test, df_crop_npp_change_tt_test, df_grass_change_tt_test, df_grass_npp_change_tt_test, ]\n",
    "    tt_test_col = [\"crop_change\", \"crop_npp_change\", \"grass_change\", \"grass_npp_change\", ]\n",
    "    \n",
    "    df_ttest_merge = combine_ttest_1lucs(tt_test_results, tt_test_col)\n",
    "    df_ttest_merge.to_csv(path_data / f\"ring/ttest/ring_{ring_radius}km.csv\")"
   ]
  },
  {
   "cell_type": "code",
   "execution_count": 17,
   "metadata": {},
   "outputs": [],
   "source": [
    "# df_ttest_merge"
   ]
  },
  {
   "cell_type": "code",
   "execution_count": null,
   "metadata": {},
   "outputs": [],
   "source": [
    "def ttest_2_ttest_class(df_ttest_merge):\n",
    "    df_ttest_class_result = df_ttest_merge.map(lambda x: x<0)\n",
    "    ttest_cols = [\"CS\", \"CD\", \"GS\", \"GD\"]\n",
    "\n",
    "    df_ttest_class_result.columns = ttest_cols\n",
    "    def extract_type(type_lst):\n",
    "        len_ = len(type_lst)\n",
    "        match len_:\n",
    "            case 0:\n",
    "                return \"NA\"\n",
    "            case 1:\n",
    "                return type_lst[0]\n",
    "            case _:\n",
    "                return \"MA\"\n",
    "\n",
    "    df_ttest_class_result.loc[:, \"class_\"] = df_ttest_class_result.apply(lambda x: extract_type(np.array(ttest_cols)[x]), axis=1)\n",
    "    df_ttest_class_result = df_ttest_class_result.reset_index()\n",
    "    \n",
    "    df_ttest_class_result = df_ttest_class_result.query(\"country != 'China'\")\n",
    "    return df_ttest_class_result"
   ]
  },
  {
   "cell_type": "code",
   "execution_count": null,
   "metadata": {},
   "outputs": [
    {
     "data": {
      "text/plain": [
       "year  country                 \n",
       "2002  Algeria                          [FD, GS]\n",
       "      Angola                                 []\n",
       "      Burundi                                []\n",
       "      Central African Republic               []\n",
       "      Cte d'Ivoire                           []\n",
       "                                      ...      \n",
       "2023  Syria                               [CPD]\n",
       "      Turkey                                 []\n",
       "      Ukraine                         [CDS, FS]\n",
       "      Venezuela                       [CDS, FS]\n",
       "      Yemen                       [CPD, GS, GD]\n",
       "Length: 508, dtype: object"
      ]
     },
     "execution_count": 11,
     "metadata": {},
     "output_type": "execute_result"
    }
   ],
   "source": [
    "df_ttest_class_result = df_ttest_merge.map(lambda x: x<0)\n",
    "ttest_cols = [\"CS\", \"CD\", \"GS\", \"GD\"]"
   ]
  },
  {
   "cell_type": "code",
   "execution_count": null,
   "metadata": {},
   "outputs": [],
   "source": [
    "ring_radius_s = np.arange(5, 26, 5)\n",
    "lst_df_ttest_merge = [pd.read_csv(path_data / f\"ring/ttest/ring_{ring_radius}km.csv\", index_col=[0, 1]) for ring_radius in ring_radius_s]\n",
    "df_ttest_merge = pd.concat(lst_df_ttest_merge, keys=ring_radius_s, axis=1)\n",
    "df_ttest_merge = df_ttest_merge.reorder_levels([1, 0], axis=1)\n",
    "\n",
    "# df_ttest_merge.loc[2023, \"crop_change\"]"
   ]
  },
  {
   "cell_type": "code",
   "execution_count": 14,
   "metadata": {},
   "outputs": [],
   "source": [
    "def find_first_nonneg_prev_col(row):\n",
    "    first_nonneg = (row >= 0).idxmax()\n",
    "    \n",
    "    if row[first_nonneg] < 0:\n",
    "        return row.index[-1]\n",
    "    if first_nonneg == row.index[0]:\n",
    "        return 0\n",
    "    pos = list(row.index).index(first_nonneg)\n",
    "    return row.index[pos-1]"
   ]
  },
  {
   "cell_type": "code",
   "execution_count": 15,
   "metadata": {},
   "outputs": [],
   "source": [
    "dic_region = {\n",
    "    \"Northern Africa and Western Asia\": \"N. Africa W. Asia\",\n",
    "    \"Sub-Saharan Africa\": \"Sub-Saharan Africa\",\n",
    "    \"Central Asia and Russian Federation\": \"C. Asia\",\n",
    "    \"Eastern Asia\": \"E. Asia\",\n",
    "    \"Southern Asia\": \"S. Asia\",\n",
    "    \"Southeastern Asia\": \"S. Asia\",\n",
    "    \"Northern America\": \"N. America\",\n",
    "    \"Latin America and the Caribbean\": \"Latin America\",\n",
    "    \"Western Europe\": \"W. Europe\",\n",
    "    \"Eastern and South-Eastern Europe\": \"E. Europe\",\n",
    "    \"Oceania and Australia\": \"Oceania\",\n",
    "}\n",
    "gdf_countries = gdf_world.reset_index(drop=True).reset_index().rename(columns={\"index\": \"idx\"})\n",
    "gdf_countries[\"regi_short\"] = gdf_countries[\"regi_pnas\"].map(dic_region)\n",
    "country_to_region = gdf_countries.set_index(\"name_long\")[\"regi_short\"].to_dict()"
   ]
  },
  {
   "cell_type": "code",
   "execution_count": 16,
   "metadata": {},
   "outputs": [],
   "source": [
    "regions = ['C. Asia', 'E. Asia', 'S. Asia', 'N. Africa W. Asia', 'Sub-Saharan Africa', 'N. America', 'Latin America', 'Oceania', 'E. Europe', 'W. Europe']\n",
    "regions_to_color = dict(zip(regions, plt.get_cmap(\"tab20\")(np.linspace(0, 1, len(regions)))))"
   ]
  },
  {
   "cell_type": "code",
   "execution_count": 17,
   "metadata": {},
   "outputs": [],
   "source": [
    "df_influence_distance = pd.concat([\n",
    "    df_ttest_merge.loc[:, \"crop_change\"].apply(find_first_nonneg_prev_col, axis=1).rename(\"crop_change\"),\n",
    "    df_ttest_merge.loc[:, \"crop_npp_change\"].apply(find_first_nonneg_prev_col, axis=1).rename(\"crop_npp_change\"),\n",
    "    df_ttest_merge.loc[:, \"grass_change\"].apply(find_first_nonneg_prev_col, axis=1).rename(\"grass_change\"),\n",
    "    df_ttest_merge.loc[:, \"grass_npp_change\"].apply(find_first_nonneg_prev_col, axis=1).rename(\"grass_npp_change\"),\n",
    "], axis=1)\n"
   ]
  },
  {
   "cell_type": "code",
   "execution_count": 18,
   "metadata": {},
   "outputs": [],
   "source": [
    "df_influence_distance.to_csv(path_data / f\"ring/ttest/influence_distance.csv\")"
   ]
  }
 ],
 "metadata": {
  "kernelspec": {
   "display_name": "pyg2",
   "language": "python",
   "name": "python3"
  },
  "language_info": {
   "codemirror_mode": {
    "name": "ipython",
    "version": 3
   },
   "file_extension": ".py",
   "mimetype": "text/x-python",
   "name": "python",
   "nbconvert_exporter": "python",
   "pygments_lexer": "ipython3",
   "version": "3.11.9"
  }
 },
 "nbformat": 4,
 "nbformat_minor": 2
}
