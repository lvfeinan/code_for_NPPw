{
 "cells": [
  {
   "cell_type": "code",
   "execution_count": null,
   "metadata": {},
   "outputs": [],
   "source": [
    "from utils import *\n",
    "from tqdm.notebook import tqdm\n",
    "from scipy import ndimage\n",
    "\n",
    "res_1km = 1 / 12 / 10"
   ]
  },
  {
   "cell_type": "markdown",
   "metadata": {},
   "source": [
    "# modis land cover color"
   ]
  },
  {
   "cell_type": "code",
   "execution_count": null,
   "metadata": {},
   "outputs": [],
   "source": [
    "st1 = \"\"\"Value\tColor\tDescription\n",
    "1\t#05450a\tEvergreen Needleleaf Forests: dominated by evergreen conifer trees (canopy >2m). Tree cover >60%.\n",
    "2\t#086a10\tEvergreen Broadleaf Forests: dominated by evergreen broadleaf and palmate trees (canopy >2m). Tree cover >60%.\n",
    "3\t#54a708\tDeciduous Needleleaf Forests: dominated by deciduous needleleaf (larch) trees (canopy >2m). Tree cover >60%.\n",
    "4\t#78d203\tDeciduous Broadleaf Forests: dominated by deciduous broadleaf trees (canopy >2m). Tree cover >60%.\n",
    "5\t#009900\tMixed Forests: dominated by neither deciduous nor evergreen (40-60% of each) tree type (canopy >2m). Tree cover >60%.\n",
    "6\t#c6b044\tClosed Shrublands: dominated by woody perennials (1-2m height) >60% cover.\n",
    "7\t#dcd159\tOpen Shrublands: dominated by woody perennials (1-2m height) 10-60% cover.\n",
    "8\t#dade48\tWoody Savannas: tree cover 30-60% (canopy >2m).\n",
    "9\t#fbff13\tSavannas: tree cover 10-30% (canopy >2m).\n",
    "10\t#b6ff05\tGrasslands: dominated by herbaceous annuals (<2m).\n",
    "11\t#27ff87\tPermanent Wetlands: permanently inundated lands with 30-60% water cover and >10% vegetated cover.\n",
    "12\t#c24f44\tCroplands: at least 60% of area is cultivated cropland.\n",
    "13\t#a5a5a5\tUrban and Built-up Lands: at least 30% impervious surface area including building materials, asphalt and vehicles.\n",
    "14\t#ff6d4c\tCropland/Natural Vegetation Mosaics: mosaics of small-scale cultivation 40-60% with natural tree, shrub, or herbaceous vegetation.\n",
    "15\t#69fff8\tPermanent Snow and Ice: at least 60% of area is covered by snow and ice for at least 10 months of the year.\n",
    "16\t#f9ffa4\tBarren: at least 60% of area is non-vegetated barren (sand, rock, soil) areas with less than 10% vegetation.\n",
    "17\t#1c0dff\tWater Bodies: at least 60% of area is covered by permanent water bodies.\"\"\"\n",
    "\n",
    "class_table = pd.read_csv(StringIO(st1), sep=\"\\t\")\n",
    "class_table[\"Value\"] = class_table[\"Value\"].astype(int)\n",
    "class_table[\"luc\"] = class_table[\"Description\"].str.split(\":\", expand=True)[0]\n",
    "\n",
    "code2color = class_table.set_index(\"Value\")[\"Color\"].to_dict()"
   ]
  },
  {
   "cell_type": "code",
   "execution_count": null,
   "metadata": {},
   "outputs": [],
   "source": [
    "def get_gdf_conflict_1year(year, exclude=[]):\n",
    "    shp_file = path_data / f\"PSM/sample_point/conflict_{year}.shp\"\n",
    "    gdf_conflict_1year = gpd.read_file(shp_file)\n",
    "    return gdf_conflict_1year\n",
    "def get_miss_conflict_random_point(year, gdf_conflict_1year, non_conflict_multiple_index=2):\n",
    "    shp_file = path_data / f\"PSM/sample_point/non_conflict_{year}.shp\"\n",
    "    gdf_miss_conflict = gpd.read_file(shp_file)\n",
    "    return gdf_miss_conflict"
   ]
  },
  {
   "cell_type": "markdown",
   "metadata": {},
   "source": [
    "## circle mask"
   ]
  },
  {
   "cell_type": "code",
   "execution_count": null,
   "metadata": {},
   "outputs": [],
   "source": [
    "# For subsequent sensitivity analysis, the sample radius has been extended to 20 km\n",
    "radius, radius_b = 25, 24.43"
   ]
  },
  {
   "cell_type": "code",
   "execution_count": null,
   "metadata": {},
   "outputs": [],
   "source": [
    "import warnings\n",
    "warnings.filterwarnings(\"ignore\")"
   ]
  },
  {
   "cell_type": "code",
   "execution_count": null,
   "metadata": {},
   "outputs": [],
   "source": [
    "def get_best_clip_radius(radius, buffer_steps):\n",
    "    gdf_point = gpd.GeoDataFrame({}, geometry=gpd.points_from_xy([0], [0]), crs=\"epsg:4326\")\n",
    "\n",
    "    min_diff = float('inf')\n",
    "    best_step = None\n",
    "    for step in buffer_steps:\n",
    "        gdf_circle = gdf_point.copy()\n",
    "        gdf_circle['geometry'] = gdf_point.buffer(radius + step)\n",
    "\n",
    "        da_circle = xr.DataArray(np.ones((radius * 2 + 1, radius * 2 + 1)), coords={\"y\": np.arange(-radius, radius + 1), \"x\": np.arange(-radius, radius + 1)})\\\n",
    "            .rio.write_crs(\"epsg:4326\")\\\n",
    "            .rio.clip(gdf_circle.geometry, all_touched=True, drop=False)\\\n",
    "            .fillna(0).astype(np.uint8)\n",
    "\n",
    "        # Check the symmetry of the sample\n",
    "        check_ar = np.array([\n",
    "            ((da_circle.values == da_circle.values.T).sum() == (radius * 2 + 1) ** 2), \n",
    "            ((da_circle.values == da_circle.values[::-1]).sum() == (radius * 2 + 1) ** 2), \n",
    "            ((da_circle.values == da_circle.values.T[::-1]).sum() == (radius * 2 + 1) ** 2), \n",
    "        ])\n",
    "        if (check_ar.sum() != 3):\n",
    "            continue\n",
    "\n",
    "        area_diff = abs(da_circle.sum().values - radius ** 2 * np.pi)\n",
    "\n",
    "        if area_diff <= min_diff:\n",
    "            min_diff = area_diff\n",
    "            best_step = step\n",
    "        else:\n",
    "            break\n",
    "    return radius + best_step, min_diff"
   ]
  },
  {
   "cell_type": "code",
   "execution_count": null,
   "metadata": {},
   "outputs": [],
   "source": [
    "from tqdm.notebook import tqdm\n",
    "buffer_steps = np.arange(-1, 1, 0.01)\n",
    "radius_data = []\n",
    "for radius in tqdm(np.arange(3, 26)):\n",
    "    radius_clip, min_diff = get_best_clip_radius(radius, buffer_steps)\n",
    "    radius_data.append([radius, radius_clip, min_diff])\n",
    "df_radius = pd.DataFrame(radius_data, columns=[\"radius\", \"radius_clip\", \"diff\"])"
   ]
  },
  {
   "cell_type": "code",
   "execution_count": null,
   "metadata": {},
   "outputs": [],
   "source": [
    "def get_ar_circle(radius):\n",
    "    radius_clip = {3: 2.54, 4:3.53, 5: 4.49, 6: 5.52, 7: 6.52, 8: 7.49, 9: 8.52, 10: 9.49, 11: 10.52, 12: 11.49, 13: 12.49, 14: 13.51, 15: 14.49, 16: 15.52, 17: 16.46, 18: 17.49, 19: 18.49, 20: 19.47, 21: 20.49, 22: 21.49, 23: 22.49, 24: 23.49, 25: 24.43}[radius]\n",
    "    gdf_circle = gpd.GeoDataFrame({}, geometry=gpd.GeoDataFrame({}, geometry=gpd.points_from_xy([0], [0])).buffer(radius_clip), crs=\"epsg:4326\")\n",
    "    da_circle = xr.DataArray(np.ones((radius * 2 + 1, radius * 2 + 1)), coords={\"y\": np.arange(-radius, radius + 1), \"x\": np.arange(-radius, radius + 1)})\\\n",
    "        .rio.write_crs(\"epsg:4326\")\\\n",
    "        .rio.clip(gdf_circle.geometry, all_touched=True, drop=False)\\\n",
    "        .fillna(0).astype(np.uint8)\n",
    "    return da_circle, da_circle.values"
   ]
  },
  {
   "cell_type": "markdown",
   "metadata": {},
   "source": [
    "# extract circle sample"
   ]
  },
  {
   "cell_type": "code",
   "execution_count": null,
   "metadata": {},
   "outputs": [],
   "source": [
    "# MODIS MCD12Q1 \n",
    "def load_luc(year):\n",
    "    da_luc = xr.open_dataarray(path_data / f\"luc/2001-2023-1km.tif\")\n",
    "    da_luc[\"band\"] = [int(i) for i in [\"0\", *da_luc.attrs[\"long_name\"][1:]]]\n",
    "    da_luc = da_luc.sel(band=slice(year-1, year))\n",
    "    da_luc.attrs = {}\n",
    "    return da_luc\n",
    "\n",
    "# MODIS MOD17A3HGF \n",
    "def load_npp(year):\n",
    "    da_npp_1year = xr.open_dataarray(path_data / f\"npp/{year}-1km.tif\")\\\n",
    "        .sel(band=1).drop_vars([\"band\", \"spatial_ref\"])\\\n",
    "        .rio.write_crs(\"epsg:4326\").rio.clip(gdf_world.geometry)\\\n",
    "        .fillna(0) * 0.1 # gC/m2/yr\n",
    "    da_npp_lastyear = xr.open_dataarray(path_data / f\"npp/{year-1}-1km.tif\")\\\n",
    "        .sel(band=1).drop_vars([\"band\", \"spatial_ref\"])\\\n",
    "        .rio.write_crs(\"epsg:4326\").rio.clip(gdf_world.geometry)\\\n",
    "        .fillna(0) * 0.1 # gC/m2/yr\n",
    "    return da_npp_1year, da_npp_lastyear"
   ]
  },
  {
   "cell_type": "code",
   "execution_count": null,
   "metadata": {},
   "outputs": [],
   "source": [
    "# diatance to road\n",
    "da_road_dis = xr.open_dataarray(path_data / \"PSM/dis_2_road.tif\").sel(band=1).drop([\"band\", \"spatial_ref\"])\n",
    "# distance to country boundary\n",
    "da_boundary_dis = xr.open_dataarray(path_data / \"PSM/dis_2_boundary.tif\").sel(band=1).drop([\"band\", \"spatial_ref\"])"
   ]
  },
  {
   "cell_type": "code",
   "execution_count": null,
   "metadata": {},
   "outputs": [],
   "source": [
    "def get_circle_locations(y, x, da_luc, radius):\n",
    "    nearest_y = np.abs(da_luc.y - y).argmin().item()\n",
    "    nearest_x = np.abs(da_luc.x - x).argmin().item()\n",
    "    y_ = np.arange(nearest_y-radius, nearest_y+radius+1)\n",
    "    x_ = np.arange(nearest_x-radius, nearest_x+radius+1)\n",
    "    return y_, x_\n",
    "\n",
    "def extract_circle(gdf_conflict_1year, da_luc, da_road_dis, da_boundary_dis, da_npp_1year, da_npp_lastyear, radius):\n",
    "    da_luc_lastyear_dic = {}\n",
    "    da_luc_1year_dic = {}\n",
    "    da_road_distance_dic = {}\n",
    "    da_boundary_dis_dic = {}\n",
    "    da_npp_1year_dic = {}\n",
    "    da_npp_lastyear_dic = {}\n",
    "\n",
    "    for idx, x, y in tqdm(gdf_conflict_1year[[\"idx\", \"x\", \"y\"]].values):\n",
    "\n",
    "        y_, x_ = get_circle_locations(y, x, da_luc, radius)\n",
    "        da_luc_lastyear_dic[idx] = da_luc.isel(band=0, x=x_, y=y_).drop(\"band\")\n",
    "        da_luc_1year_dic[idx] = da_luc.isel(band=1, x=x_, y=y_).drop(\"band\")\n",
    "\n",
    "        y_, x_ = get_circle_locations(y, x, da_road_dis, radius)\n",
    "        da_road_distance_dic[idx] = da_road_dis.isel(x=x_, y=y_)\n",
    "        da_boundary_dis_dic[idx] = da_boundary_dis.isel(x=x_, y=y_)\n",
    "\n",
    "        y_, x_ = get_circle_locations(y, x, da_npp_1year, radius)\n",
    "        da_npp_1year_dic[idx] = da_npp_1year.isel(x=x_, y=y_)\n",
    "        da_npp_lastyear_dic[idx] = da_npp_lastyear.isel(x=x_, y=y_)\n",
    "        \n",
    "\n",
    "    return (\n",
    "        da_luc_lastyear_dic, da_luc_1year_dic, \n",
    "        da_road_distance_dic, da_boundary_dis_dic, \n",
    "        da_npp_1year_dic, da_npp_lastyear_dic\n",
    "    )\n",
    "\n",
    "def trans_to_no_coords(da_luc_lastyear_dic, radius, ar_circle):\n",
    "    da_combine_no_coords_lastyear = xr.DataArray(\n",
    "        [i.values for i in da_luc_lastyear_dic.values()], \n",
    "        coords={\"idx\": [i for i in da_luc_lastyear_dic.keys()], \"y\": np.arange(-radius, radius+1)[::-1], \"x\": np.arange(-radius, radius+1)}\n",
    "    )\n",
    "    da_combine_no_coords_lastyear = xr.where(ar_circle==1, da_combine_no_coords_lastyear, np.nan)\n",
    "    return  da_combine_no_coords_lastyear\n",
    "\n",
    "def point_to_sample_da(gdf_conflict_1year, da_luc, da_road_dis, da_boundary_dis, da_npp_1year, da_npp_lastyear, radius, ar_circle):\n",
    "    da_luc_lastyear_dic, da_luc_1year_dic, da_road_distance_dic, da_boundary_dis_dic, da_npp_1year_dic, da_npp_lastyear_dic = extract_circle(gdf_conflict_1year, da_luc, da_road_dis, da_boundary_dis, da_npp_1year, da_npp_lastyear, radius)\n",
    "\n",
    "    da_combine_no_coords_lastyear = trans_to_no_coords(da_luc_lastyear_dic, radius, ar_circle)\n",
    "    da_combine_no_coords_1year = trans_to_no_coords(da_luc_1year_dic, radius, ar_circle)\n",
    "    da_combine_no_coords_road_dis = trans_to_no_coords(da_road_distance_dic, radius, ar_circle)\n",
    "    da_combine_no_coords_road_dis = xr.where(da_combine_no_coords_road_dis < 0, np.nan, da_combine_no_coords_road_dis)\n",
    "\n",
    "    da_combine_no_coords_boundary_dis = trans_to_no_coords(da_boundary_dis_dic, radius, ar_circle)\n",
    "    da_combine_no_coords_boundary_dis = xr.where(da_combine_no_coords_boundary_dis < 0, np.nan, da_combine_no_coords_boundary_dis)\n",
    "    \n",
    "    da_combine_no_coords_npp_lastyear = trans_to_no_coords(da_npp_lastyear_dic, radius, ar_circle)\n",
    "    da_combine_no_coords_npp_1year = trans_to_no_coords(da_npp_1year_dic, radius, ar_circle)\n",
    "\n",
    "    return (\n",
    "        da_combine_no_coords_lastyear, da_combine_no_coords_1year, \n",
    "        da_combine_no_coords_road_dis, da_combine_no_coords_boundary_dis,\n",
    "        da_combine_no_coords_npp_lastyear, da_combine_no_coords_npp_1year\n",
    "    )"
   ]
  },
  {
   "cell_type": "code",
   "execution_count": null,
   "metadata": {},
   "outputs": [],
   "source": [
    "# LandScan\n",
    "def extract_circle_population(year, gdf_conflict_1year, radius, ar_circle):\n",
    "    da_pop = xr.open_dataarray(path_data / f\"pop/{year}.tif\").sel(band=1).drop(\"band\")\n",
    "    da_pop_dic = {}\n",
    "    for idx, x, y in tqdm(gdf_conflict_1year[[\"idx\", \"x\", \"y\"]].values):\n",
    "\n",
    "        y_, x_ = get_circle_locations(y, x, da_pop, radius)\n",
    "        da_pop_dic[idx] = da_pop.isel(x=x_, y=y_)\n",
    "\n",
    "    da_combine_no_coords_pop = trans_to_no_coords(da_pop_dic, radius, ar_circle)\n",
    "    return da_combine_no_coords_pop"
   ]
  },
  {
   "cell_type": "code",
   "execution_count": null,
   "metadata": {},
   "outputs": [],
   "source": [
    "def pipline_sample(year, radius, ar_circle):\n",
    "    gdf_conflict_1year = get_gdf_conflict_1year(year)\n",
    "    gdf_miss_conflict = get_miss_conflict_random_point(year, gdf_conflict_1year)\n",
    "\n",
    "    da_luc = load_luc(year)\n",
    "    da_npp_1year, da_npp_lastyear = load_npp(year)\n",
    "        \n",
    "    da_conflict_lst = point_to_sample_da(gdf_conflict_1year, da_luc, da_road_dis, da_boundary_dis, da_npp_1year, da_npp_lastyear, radius, ar_circle)\n",
    "    for da_, name_ in zip(da_conflict_lst, [\"luc_lastyear\", \"luc_currentyear\", \"road_dis\", \"boundary_dis\", \"npp_lastyear\", \"npp_currentyear\"]):\n",
    "        da_.to_netcdf(path_data / f\"PSM{radius}km/conflict_sample/{year}_{name_}.nc\")\n",
    "\n",
    "    da_non_conflict_lst = point_to_sample_da(gdf_miss_conflict, da_luc, da_road_dis, da_boundary_dis, da_npp_1year, da_npp_lastyear, radius, ar_circle)\n",
    "    for da_, name_ in zip(da_non_conflict_lst, [\"luc_lastyear\", \"luc_currentyear\", \"road_dis\", \"boundary_dis\", \"npp_lastyear\", \"npp_currentyear\"]):\n",
    "        da_.to_netcdf(path_data / f\"PSM{radius}km/non_conflict_sample/{year}_{name_}.nc\")\n",
    "        \n",
    "    return  (gdf_conflict_1year, gdf_miss_conflict), (da_conflict_lst, da_non_conflict_lst)\n"
   ]
  },
  {
   "cell_type": "code",
   "execution_count": null,
   "metadata": {},
   "outputs": [],
   "source": [
    "da_circle, ar_circle = get_ar_circle(radius)\n",
    "(path_data / f\"PSM{radius}km/non_conflict_sample\").mkdir(parents=True, exist_ok=True)\n",
    "(path_data / f\"PSM{radius}km/conflict_sample\").mkdir(parents=True, exist_ok=True)"
   ]
  },
  {
   "cell_type": "code",
   "execution_count": null,
   "metadata": {},
   "outputs": [],
   "source": [
    "for year in range(2002, 2024):\n",
    "    if not (path_data / f\"PSM{radius}km/non_conflict_sample/{year}_npp_currentyear.nc\").exists():\n",
    "        (gdf_conflict_1year, gdf_miss_conflict), (da_conflict_lst, da_non_conflict_lst) = pipline_sample(year, radius, ar_circle)\n",
    "    \n",
    "    if not (path_data / f\"PSM{radius}km/non_conflict_sample/{year}_pop.nc\").exists():\n",
    "        gdf_conflict_1year = get_gdf_conflict_1year(year)\n",
    "        gdf_miss_conflict = get_miss_conflict_random_point(year, gdf_conflict_1year)\n",
    "\n",
    "        da_combine_no_coords_pop_con = extract_circle_population(year, gdf_conflict_1year, radius, ar_circle)\n",
    "        da_combine_no_coords_pop_non_con = extract_circle_population(year, gdf_miss_conflict, radius, ar_circle)\n",
    "\n",
    "        da_combine_no_coords_pop_con.to_netcdf(path_data / f\"PSM{radius}km/conflict_sample/{year}_pop.nc\")\n",
    "        da_combine_no_coords_pop_non_con.to_netcdf(path_data / f\"PSM{radius}km/non_conflict_sample/{year}_pop.nc\")"
   ]
  }
 ],
 "metadata": {
  "kernelspec": {
   "display_name": "pyg1",
   "language": "python",
   "name": "python3"
  },
  "language_info": {
   "codemirror_mode": {
    "name": "ipython",
    "version": 3
   },
   "file_extension": ".py",
   "mimetype": "text/x-python",
   "name": "python",
   "nbconvert_exporter": "python",
   "pygments_lexer": "ipython3",
   "version": "3.11.6"
  }
 },
 "nbformat": 4,
 "nbformat_minor": 2
}
