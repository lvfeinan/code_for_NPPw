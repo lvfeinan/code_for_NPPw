{
 "cells": [
  {
   "cell_type": "code",
   "execution_count": null,
   "metadata": {},
   "outputs": [],
   "source": [
    "from utils import *\n",
    "from matplotlib.lines import Line2D\n",
    "from scipy.stats import wilcoxon, ttest_rel\n",
    "from matplotlib.gridspec import GridSpec\n",
    "from matplotlib.colors import LogNorm, Normalize, TwoSlopeNorm\n",
    "from matplotlib.patches import ConnectionPatch\n",
    "\n",
    "import warnings\n",
    "warnings.filterwarnings('ignore')\n",
    "\n",
    "from cartopy.mpl.gridliner import LONGITUDE_FORMATTER, LATITUDE_FORMATTER\n",
    "from cartopy.mpl.ticker import LongitudeFormatter, LatitudeFormatter\n",
    "\n",
    "mm = .1/2.54\n",
    "\n",
    "def set_xticklabel_5year(ax):\n",
    "    ax.xaxis.set_major_locator(plt.MultipleLocator(5))\n",
    "    ax.xaxis.set_minor_locator(plt.MultipleLocator(1))\n",
    "    return ax\n",
    "\n",
    "nan_h = Line2D([0], [0], color=\"none\")\n",
    "\n",
    "npp_loss_types = [\"degradation_grass_npp\", \"shrink_grass_npp\", \"degradation_crop_npp\", \"abandon_crop_npp\"]\n",
    "npp_loss_type_colors = plt.get_cmap(\"Set3\")(np.linspace(0, 1, 6))\n",
    "\n",
    "npp_loss_type_colors = [\"#8dd3c7\", \"#80b1d3\", \"#bc80bd\", \"#ffed6f\"]\n",
    "\n",
    "dic_npp_loss_type_rename = {\n",
    "    'degradation_grass_npp': \"$Rangeland_{D}$\",\n",
    "    'shrink_grass_npp': \"$Rangeland_{S}$\",\n",
    "    'degradation_crop_npp': \"$Cropland_{D}$\",\n",
    "    'abandon_crop_npp': \"$Cropland_{S}$\"\n",
    "}\n",
    "\n",
    "dic_region = {\n",
    "    \"Northern Africa and Western Asia\": \"N. Africa W. Asia\",\n",
    "    \"Sub-Saharan Africa\": \"Sub-Saharan Africa\",\n",
    "    \"Central Asia and Russian Federation\": \"C. Asia\",\n",
    "    \"Eastern Asia\": \"E. Asia\",\n",
    "    \"Southern Asia\": \"S. Asia\",\n",
    "    \"Southeastern Asia\": \"S. Asia\",\n",
    "    \"Northern America\": \"N. America\",\n",
    "    \"Latin America and the Caribbean\": \"Latin America\",\n",
    "    \"Western Europe\": \"W. Europe\",\n",
    "    \"Eastern and South-Eastern Europe\": \"E. Europe\",\n",
    "    \"Oceania and Australia\": \"Oceania\",\n",
    "}\n",
    "\n",
    "gdf_countries = gdf_world.reset_index(drop=True).reset_index().rename(columns={\"index\": \"idx\"})\n",
    "gdf_countries[\"regi_short\"] = gdf_countries[\"regi_pnas\"].map(dic_region)\n",
    "country_to_region = gdf_countries.set_index(\"name_long\")[\"regi_short\"].to_dict()"
   ]
  },
  {
   "cell_type": "code",
   "execution_count": null,
   "metadata": {},
   "outputs": [],
   "source": [
    "def get_ar_circle(radius):\n",
    "    if radius>2:\n",
    "        radius_clip = {3: 2.54, 4:3.53, 5: 4.49, 6: 5.52, 7: 6.52, 8: 7.49, 9: 8.52, 10: 9.49, 11: 10.52, 12: 11.49, 13: 12.49, 14: 13.51, 15: 14.49, 16: 15.52, 17: 16.46, 18: 17.49, 19: 18.49, 20: 19.47, 21: 20.49, 22: 21.49, 23: 22.49, 24: 23.49, 25: 24.43}[radius]\n",
    "        gdf_circle = gpd.GeoDataFrame({}, geometry=gpd.GeoDataFrame({}, geometry=gpd.points_from_xy([0], [0])).buffer(radius_clip), crs=\"epsg:4326\")\n",
    "        da_circle = xr.DataArray(np.ones((radius * 2 + 1, radius * 2 + 1)), coords={\"y\": np.arange(-radius, radius + 1), \"x\": np.arange(-radius, radius + 1)})\\\n",
    "            .rio.write_crs(\"epsg:4326\")\\\n",
    "            .rio.clip(gdf_circle.geometry, all_touched=True, drop=False)\\\n",
    "            .fillna(0).astype(np.uint8)\n",
    "    else:\n",
    "        da_circle = xr.DataArray([[0]], coords={\"y\": [0], \"x\": [0]}).astype(np.uint8)\n",
    "    \n",
    "    ar_circle = da_circle.values\n",
    "    return da_circle, ar_circle\n",
    "\n",
    "def get_ar_ring(radius):\n",
    "    da_circle1, ar_circle1 = get_ar_circle(radius)\n",
    "    da_circle2, ar_circle2 = get_ar_circle(radius-5)\n",
    "    da_circle2 = da_circle2.reindex_like(da_circle1, fill_value=0)\n",
    "    \n",
    "    da_circle = da_circle1 - da_circle2\n",
    "    ar_circle = da_circle.values\n",
    "    return da_circle, ar_circle"
   ]
  },
  {
   "cell_type": "code",
   "execution_count": null,
   "metadata": {},
   "outputs": [],
   "source": [
    "df_influence_distance = pd.read_csv(path_data / f\"ring/ttest/influence_distance.csv\", index_col=[0, 1])\n",
    "df_influence_distance.columns = [\"CS\", \"CD\", \"GS\", \"GD\"]"
   ]
  },
  {
   "cell_type": "code",
   "execution_count": null,
   "metadata": {},
   "outputs": [],
   "source": [
    "df_voronoi_ratio = pd.concat([pd.read_csv(path_data / f\"PSM/voronoi/ring_ratio_{year}.csv\", index_col=0) \n",
    "                              for year in range(2002, 2024)])\\\n",
    "                        .reset_index(drop=True)"
   ]
  },
  {
   "cell_type": "code",
   "execution_count": null,
   "metadata": {},
   "outputs": [],
   "source": []
  },
  {
   "cell_type": "code",
   "execution_count": null,
   "metadata": {},
   "outputs": [],
   "source": [
    "def get_df_dif_matched_all():\n",
    "    df_matched_m_lst = []\n",
    "    df_diff_m_lst = []\n",
    "    for year in range(2002, 2024):\n",
    "        for radius in range(5, 26, 5):\n",
    "            df_matched_m_lst.append(pd.read_csv(path_data / f\"ring/df_matched_ring_{radius}km_{year}.csv\", index_col=0).assign(year=year, radius=radius))\n",
    "            df_diff_m_lst.append(pd.read_csv(path_data / f\"ring/df_diff_ring_{radius}km_{year}.csv\", index_col=0).assign(year=year, radius=radius))\n",
    "    df_diff_m_all = pd.concat(df_diff_m_lst).reset_index(drop=True)\n",
    "    df_matched_m_all = pd.concat(df_matched_m_lst).reset_index(drop=True)\n",
    "    df_diff_m_all[\"country\"] = df_matched_m_all[\"country\"]\n",
    "\n",
    "    for luc_ in [\"crop\", \"grass\"]:\n",
    "        df_crop_npp_diff_country = pd.read_csv(path_data / f\"npp/{luc_}_npp_diff.csv\").rename(columns={\"name_long\": \"country\"})\n",
    "        df_crop_npp_diff_country = df_crop_npp_diff_country.melt(id_vars=\"country\", var_name=\"year\", value_name=f\"{luc_}_npp_diff_country\")\\\n",
    "            .assign(year=lambda _df: _df[\"year\"].astype(int))\n",
    "\n",
    "        df_matched_m_all = df_matched_m_all.merge(df_crop_npp_diff_country, on=[\"country\", \"year\"], how=\"left\")\n",
    "        df_matched_m_all.loc[:, f\"{luc_}_npp_change_n\"] = df_matched_m_all[[f\"{luc_}_npp_change_n\", f\"{luc_}_npp_diff_country\"]].bfill(axis=1).iloc[:, 0].values\n",
    "        df_matched_m_all = df_matched_m_all.drop(columns=[f\"{luc_}_npp_diff_country\"])\n",
    "        \n",
    "    df_diff_m_all = df_diff_m_all.assign(country=df_matched_m_all['country']).query(\"country != 'China'\")\n",
    "    df_matched_m_all = df_matched_m_all.query(\"country != 'China'\")\n",
    "    return df_diff_m_all, df_matched_m_all"
   ]
  },
  {
   "cell_type": "code",
   "execution_count": null,
   "metadata": {},
   "outputs": [],
   "source": [
    "df_diff_m_all, df_matched_m_all = get_df_dif_matched_all()"
   ]
  },
  {
   "cell_type": "code",
   "execution_count": null,
   "metadata": {},
   "outputs": [],
   "source": [
    "ring_area5 = np.pi * (5 * 1000) ** 2\n",
    "ring_area10 = np.pi * (10 * 1000) ** 2 - np.pi * (5 * 1000) ** 2\n",
    "ring_area15 = np.pi * (15 * 1000) ** 2 - np.pi * (10 * 1000) ** 2\n",
    "ring_area20 = np.pi * (20 * 1000) ** 2 - np.pi * (15 * 1000) ** 2\n",
    "ring_area25 = np.pi * (25 * 1000) ** 2 - np.pi * (20 * 1000) ** 2\n",
    "dic_ring_area = {5: ring_area5, 10: ring_area10, 15: ring_area15, 20: ring_area20, 25: ring_area25}\n",
    "df_ring_area = pd.DataFrame({\"radius\": list(dic_ring_area.keys()), \"ring_area\": list(dic_ring_area.values())})"
   ]
  },
  {
   "cell_type": "code",
   "execution_count": null,
   "metadata": {},
   "outputs": [],
   "source": [
    "df_voronoi_ratio_1d = df_voronoi_ratio.melt(id_vars=[\"year\", \"idx\"], value_vars=[\"ratio5\", \"ratio10\", \"ratio15\", \"ratio20\", \"ratio25\"], var_name=\"radius\", value_name=\"ratio\")\\\n",
    "    .assign(radius=lambda _df: _df[\"radius\"].str.slice(start=5).astype(int))"
   ]
  },
  {
   "cell_type": "code",
   "execution_count": null,
   "metadata": {},
   "outputs": [],
   "source": [
    "df_live = df_matched_m_all.query(\"radius == 5\")[[\"x\", \"y\", \"year\", \"idx\"]].copy()\n",
    "xy_lst = df_live[[\"x\", \"y\"]].values\n",
    "\n",
    "path_livestock_distribute = path_data / \"FAO/FAO-GLW\"\n",
    "da_livestock = xr.open_dataarray(path_livestock_distribute / \"GLW4-2020.D-DA.GLEAM3-ALL-LU.tif\").sel(band=1)\n",
    "live_num = da_livestock.sel(x=xr.DataArray(xy_lst[:, 0], dims=\"z\"), y=xr.DataArray(xy_lst[:, 1], dims=\"z\"), method=\"nearest\").values\n",
    "df_live = df_live\\\n",
    "    .assign(live_num=live_num).fillna(0)\\\n",
    "    .assign(live_=lambda _df: _df[\"live_num\"]>0)"
   ]
  },
  {
   "cell_type": "code",
   "execution_count": null,
   "metadata": {},
   "outputs": [],
   "source": [
    "df_matched_m_all = df_matched_m_all.merge(df_live[[\"year\", \"idx\", \"live_\"]], on=[\"year\", \"idx\"], how=\"left\")"
   ]
  },
  {
   "cell_type": "code",
   "execution_count": null,
   "metadata": {},
   "outputs": [],
   "source": [
    "df_influence_distance = pd.read_csv(path_data / f\"ring/ttest/influence_distance.csv\", index_col=[0, 1])\n",
    "df_influence_distance.columns = [\"CDS\", \"CPD\", \"GS\", \"GD\"]\n",
    "\n",
    "df_matched_m_all_cal_npp = df_matched_m_all[[\n",
    "        \"crop_cy\", \"crop_ly\", \"grass_ly\", \"grass_cy\", \n",
    "        \"crop_npp_cy\", \"crop_npp_ly\", \"grass_npp_ly\", \"grass_npp_cy\", \n",
    "        \"country\", \"idx\", \"year\", \"radius\", \"live_\"\n",
    "    ]].copy().assign(\n",
    "        crop_change=df_matched_m_all[\"crop_change\"] - df_matched_m_all[\"crop_change_n\"],\n",
    "        crop_npp_change=df_matched_m_all[\"crop_npp_change\"] - df_matched_m_all[\"crop_npp_change_n\"],\n",
    "        grass_change=df_matched_m_all[\"grass_change\"] - df_matched_m_all[\"grass_change_n\"],\n",
    "        grass_npp_change=df_matched_m_all[\"grass_npp_change\"] - df_matched_m_all[\"grass_npp_change_n\"]\n",
    "    )\\\n",
    "        .reset_index(drop=True)\\\n",
    "        .merge(df_voronoi_ratio_1d, on=[\"year\", \"idx\", \"radius\"], how=\"left\")\\\n",
    "        .merge(df_ring_area, on=\"radius\", how=\"left\")\\\n",
    "        .merge(df_influence_distance.reset_index(), on=[\"country\", \"year\"], how=\"left\")\n",
    "            \n",
    "df_cal_npp_crop_d = df_matched_m_all_cal_npp.query(\"CPD > 0\").query(\"radius <= CPD\")\n",
    "df_cal_npp_crop_s = df_matched_m_all_cal_npp.query(\"CDS > 0\").query(\"radius <= CDS\")\n",
    "df_cal_npp_grass_d = df_matched_m_all_cal_npp.query(\"GD > 0\").query(\"radius <= GD\")\n",
    "df_cal_npp_grass_s = df_matched_m_all_cal_npp.query(\"GS > 0\").query(\"radius <= GS\")\n",
    "\n",
    "degradation_grass_df = df_cal_npp_grass_d.query(\"grass_npp_change<0\")\\\n",
    "    .assign(degradation_grass_npp=lambda _df: _df[\"grass_cy\"] * _df[\"grass_npp_change\"] * _df[\"ring_area\"] * _df[\"ratio\"])\\\n",
    "    .groupby([\"year\", \"country\"], as_index=False)[\"degradation_grass_npp\"].sum()\\\n",
    "    .set_index([\"year\", \"country\"])\n",
    "\n",
    "shrink_grass_df = df_cal_npp_grass_s.query(\"grass_change<0\")\\\n",
    "    .assign(shrink_grass_npp=lambda _df: _df[\"grass_change\"] * _df[\"grass_npp_cy\"] * _df[\"ring_area\"] * _df[\"ratio\"])\\\n",
    "    .groupby([\"year\", \"country\"], as_index=False)[\"shrink_grass_npp\"].sum()\\\n",
    "    .set_index([\"year\", \"country\"])\n",
    "    \n",
    "degradation_crop_df = df_cal_npp_crop_d.query(\"crop_npp_change<0\")\\\n",
    "    .assign(degradation_crop_npp=lambda _df: _df[\"crop_cy\"] * _df[\"crop_npp_change\"] * _df[\"ring_area\"] * _df[\"ratio\"])\\\n",
    "    .groupby([\"year\", \"country\"], as_index=False)[\"degradation_crop_npp\"].sum()\\\n",
    "    .set_index([\"year\", \"country\"])\n",
    "\n",
    "abandon_crop_df = df_cal_npp_crop_s.query(\"crop_change<0\")\\\n",
    "    .assign(abandon_crop_npp=lambda _df: _df[\"crop_change\"] * _df[\"crop_npp_cy\"] * _df[\"ring_area\"] * _df[\"ratio\"])\\\n",
    "    .groupby([\"year\", \"country\"], as_index=False)[\"abandon_crop_npp\"].sum()\\\n",
    "    .set_index([\"year\", \"country\"])\n",
    "    \n",
    "loss_grass = degradation_grass_df.join(shrink_grass_df, how=\"outer\").fillna(0)\n",
    "loss_crop_df = degradation_crop_df.join(abandon_crop_df, how=\"outer\").fillna(0)\n",
    "loss_df = loss_grass.join(loss_crop_df, how=\"outer\").fillna(0) * -1\n",
    "loss_df = loss_df.reset_index().assign(region=lambda _df: _df[\"country\"].map(country_to_region)).set_index([\"year\", \"region\", \"country\"])"
   ]
  }
 ],
 "metadata": {
  "kernelspec": {
   "display_name": "pyg1",
   "language": "python",
   "name": "python3"
  },
  "language_info": {
   "codemirror_mode": {
    "name": "ipython",
    "version": 3
   },
   "file_extension": ".py",
   "mimetype": "text/x-python",
   "name": "python",
   "nbconvert_exporter": "python",
   "pygments_lexer": "ipython3",
   "version": "3.11.6"
  }
 },
 "nbformat": 4,
 "nbformat_minor": 2
}
